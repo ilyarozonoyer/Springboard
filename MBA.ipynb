{
 "cells": [
  {
   "cell_type": "code",
   "execution_count": 583,
   "id": "da77e78e-ca53-4698-ad77-e47b6daa8ba2",
   "metadata": {},
   "outputs": [],
   "source": [
    "from IPython.core.interactiveshell import InteractiveShell\n",
    "InteractiveShell.ast_node_interactivity = 'all'\n",
    "\n",
    "import pandas as pd\n",
    "import seaborn as sns\n",
    "import matplotlib.pyplot as plt"
   ]
  },
  {
   "cell_type": "code",
   "execution_count": 584,
   "id": "f55fd3bf-1f29-45e8-be34-d8971f6144fd",
   "metadata": {},
   "outputs": [
    {
     "data": {
      "text/html": [
       "<div>\n",
       "<style scoped>\n",
       "    .dataframe tbody tr th:only-of-type {\n",
       "        vertical-align: middle;\n",
       "    }\n",
       "\n",
       "    .dataframe tbody tr th {\n",
       "        vertical-align: top;\n",
       "    }\n",
       "\n",
       "    .dataframe thead th {\n",
       "        text-align: right;\n",
       "    }\n",
       "</style>\n",
       "<table border=\"1\" class=\"dataframe\">\n",
       "  <thead>\n",
       "    <tr style=\"text-align: right;\">\n",
       "      <th></th>\n",
       "      <th>application_id</th>\n",
       "      <th>gender</th>\n",
       "      <th>international</th>\n",
       "      <th>gpa</th>\n",
       "      <th>major</th>\n",
       "      <th>race</th>\n",
       "      <th>gmat</th>\n",
       "      <th>work_exp</th>\n",
       "      <th>work_industry</th>\n",
       "      <th>admission</th>\n",
       "    </tr>\n",
       "  </thead>\n",
       "  <tbody>\n",
       "    <tr>\n",
       "      <th>0</th>\n",
       "      <td>1</td>\n",
       "      <td>Female</td>\n",
       "      <td>False</td>\n",
       "      <td>3.30</td>\n",
       "      <td>Business</td>\n",
       "      <td>Asian</td>\n",
       "      <td>620.0</td>\n",
       "      <td>3.0</td>\n",
       "      <td>Financial Services</td>\n",
       "      <td>Admit</td>\n",
       "    </tr>\n",
       "    <tr>\n",
       "      <th>1</th>\n",
       "      <td>2</td>\n",
       "      <td>Male</td>\n",
       "      <td>False</td>\n",
       "      <td>3.28</td>\n",
       "      <td>Humanities</td>\n",
       "      <td>Black</td>\n",
       "      <td>680.0</td>\n",
       "      <td>5.0</td>\n",
       "      <td>Investment Management</td>\n",
       "      <td>NaN</td>\n",
       "    </tr>\n",
       "    <tr>\n",
       "      <th>2</th>\n",
       "      <td>3</td>\n",
       "      <td>Female</td>\n",
       "      <td>True</td>\n",
       "      <td>3.30</td>\n",
       "      <td>Business</td>\n",
       "      <td>NaN</td>\n",
       "      <td>710.0</td>\n",
       "      <td>5.0</td>\n",
       "      <td>Technology</td>\n",
       "      <td>Admit</td>\n",
       "    </tr>\n",
       "    <tr>\n",
       "      <th>3</th>\n",
       "      <td>4</td>\n",
       "      <td>Male</td>\n",
       "      <td>False</td>\n",
       "      <td>3.47</td>\n",
       "      <td>STEM</td>\n",
       "      <td>Black</td>\n",
       "      <td>690.0</td>\n",
       "      <td>6.0</td>\n",
       "      <td>Technology</td>\n",
       "      <td>NaN</td>\n",
       "    </tr>\n",
       "    <tr>\n",
       "      <th>4</th>\n",
       "      <td>5</td>\n",
       "      <td>Male</td>\n",
       "      <td>False</td>\n",
       "      <td>3.35</td>\n",
       "      <td>STEM</td>\n",
       "      <td>Hispanic</td>\n",
       "      <td>590.0</td>\n",
       "      <td>5.0</td>\n",
       "      <td>Consulting</td>\n",
       "      <td>NaN</td>\n",
       "    </tr>\n",
       "  </tbody>\n",
       "</table>\n",
       "</div>"
      ],
      "text/plain": [
       "   application_id  gender  international   gpa       major      race   gmat  \\\n",
       "0               1  Female          False  3.30    Business     Asian  620.0   \n",
       "1               2    Male          False  3.28  Humanities     Black  680.0   \n",
       "2               3  Female           True  3.30    Business       NaN  710.0   \n",
       "3               4    Male          False  3.47        STEM     Black  690.0   \n",
       "4               5    Male          False  3.35        STEM  Hispanic  590.0   \n",
       "\n",
       "   work_exp          work_industry admission  \n",
       "0       3.0     Financial Services     Admit  \n",
       "1       5.0  Investment Management       NaN  \n",
       "2       5.0             Technology     Admit  \n",
       "3       6.0             Technology       NaN  \n",
       "4       5.0             Consulting       NaN  "
      ]
     },
     "execution_count": 584,
     "metadata": {},
     "output_type": "execute_result"
    }
   ],
   "source": [
    "df = pd.read_csv('C:\\data\\Springboard\\data_wrangling\\MBA.csv')\n",
    "df.head()"
   ]
  },
  {
   "cell_type": "markdown",
   "id": "94c9ed30-3478-4200-8c67-fe56d575ad7a",
   "metadata": {},
   "source": [
    "# Examining the size of the dataframe and the number of nulls per column. The metadata states that null values in the admission column are rejections. "
   ]
  },
  {
   "cell_type": "code",
   "execution_count": 586,
   "id": "d580f054-bbe3-4504-af06-00d1dc3815c6",
   "metadata": {},
   "outputs": [
    {
     "name": "stdout",
     "output_type": "stream",
     "text": [
      "\n",
      "Dataframe shape:\n",
      "\n"
     ]
    },
    {
     "data": {
      "text/plain": [
       "(6194, 10)"
      ]
     },
     "execution_count": 586,
     "metadata": {},
     "output_type": "execute_result"
    },
    {
     "name": "stdout",
     "output_type": "stream",
     "text": [
      "\n",
      "Dataframe nulls by column:\n",
      "\n"
     ]
    },
    {
     "data": {
      "text/plain": [
       "application_id       0\n",
       "gender               0\n",
       "international        0\n",
       "gpa                  0\n",
       "major                0\n",
       "race              1842\n",
       "gmat                 0\n",
       "work_exp             0\n",
       "work_industry        0\n",
       "admission         5194\n",
       "dtype: int64"
      ]
     },
     "execution_count": 586,
     "metadata": {},
     "output_type": "execute_result"
    }
   ],
   "source": [
    "print('\\nDataframe shape:\\n')\n",
    "df.shape\n",
    "print('\\nDataframe nulls by column:\\n')\n",
    "df.isna().sum()"
   ]
  },
  {
   "cell_type": "code",
   "execution_count": 587,
   "id": "aa474133-469c-4a93-90e1-656f394144d0",
   "metadata": {},
   "outputs": [
    {
     "data": {
      "text/plain": [
       "admission\n",
       "Admit       900\n",
       "Waitlist    100\n",
       "dtype: int64"
      ]
     },
     "execution_count": 587,
     "metadata": {},
     "output_type": "execute_result"
    },
    {
     "data": {
      "text/plain": [
       "array(['Admit', nan, 'Waitlist'], dtype=object)"
      ]
     },
     "execution_count": 587,
     "metadata": {},
     "output_type": "execute_result"
    }
   ],
   "source": [
    "df.groupby('admission').size()\n",
    "df['admission'].unique()"
   ]
  },
  {
   "cell_type": "markdown",
   "id": "8d4be3a7-eed3-43a0-b1f1-c21cc732fda6",
   "metadata": {},
   "source": [
    "The reason the above output shows a small portion of outcomes is because denials are denoted as nulls here. That is why We will replace the null values with \"Deny\" in the admission column."
   ]
  },
  {
   "cell_type": "code",
   "execution_count": 589,
   "id": "1f6f872b-fe72-4a82-80da-325f862600c3",
   "metadata": {},
   "outputs": [
    {
     "data": {
      "text/html": [
       "<div>\n",
       "<style scoped>\n",
       "    .dataframe tbody tr th:only-of-type {\n",
       "        vertical-align: middle;\n",
       "    }\n",
       "\n",
       "    .dataframe tbody tr th {\n",
       "        vertical-align: top;\n",
       "    }\n",
       "\n",
       "    .dataframe thead th {\n",
       "        text-align: right;\n",
       "    }\n",
       "</style>\n",
       "<table border=\"1\" class=\"dataframe\">\n",
       "  <thead>\n",
       "    <tr style=\"text-align: right;\">\n",
       "      <th></th>\n",
       "      <th>application_id</th>\n",
       "      <th>gender</th>\n",
       "      <th>international</th>\n",
       "      <th>gpa</th>\n",
       "      <th>major</th>\n",
       "      <th>race</th>\n",
       "      <th>gmat</th>\n",
       "      <th>work_exp</th>\n",
       "      <th>work_industry</th>\n",
       "      <th>admission</th>\n",
       "    </tr>\n",
       "  </thead>\n",
       "  <tbody>\n",
       "    <tr>\n",
       "      <th>0</th>\n",
       "      <td>1</td>\n",
       "      <td>Female</td>\n",
       "      <td>False</td>\n",
       "      <td>3.30</td>\n",
       "      <td>Business</td>\n",
       "      <td>Asian</td>\n",
       "      <td>620.0</td>\n",
       "      <td>3.0</td>\n",
       "      <td>Financial Services</td>\n",
       "      <td>Admit</td>\n",
       "    </tr>\n",
       "    <tr>\n",
       "      <th>1</th>\n",
       "      <td>2</td>\n",
       "      <td>Male</td>\n",
       "      <td>False</td>\n",
       "      <td>3.28</td>\n",
       "      <td>Humanities</td>\n",
       "      <td>Black</td>\n",
       "      <td>680.0</td>\n",
       "      <td>5.0</td>\n",
       "      <td>Investment Management</td>\n",
       "      <td>Deny</td>\n",
       "    </tr>\n",
       "    <tr>\n",
       "      <th>2</th>\n",
       "      <td>3</td>\n",
       "      <td>Female</td>\n",
       "      <td>True</td>\n",
       "      <td>3.30</td>\n",
       "      <td>Business</td>\n",
       "      <td>NaN</td>\n",
       "      <td>710.0</td>\n",
       "      <td>5.0</td>\n",
       "      <td>Technology</td>\n",
       "      <td>Admit</td>\n",
       "    </tr>\n",
       "    <tr>\n",
       "      <th>3</th>\n",
       "      <td>4</td>\n",
       "      <td>Male</td>\n",
       "      <td>False</td>\n",
       "      <td>3.47</td>\n",
       "      <td>STEM</td>\n",
       "      <td>Black</td>\n",
       "      <td>690.0</td>\n",
       "      <td>6.0</td>\n",
       "      <td>Technology</td>\n",
       "      <td>Deny</td>\n",
       "    </tr>\n",
       "    <tr>\n",
       "      <th>4</th>\n",
       "      <td>5</td>\n",
       "      <td>Male</td>\n",
       "      <td>False</td>\n",
       "      <td>3.35</td>\n",
       "      <td>STEM</td>\n",
       "      <td>Hispanic</td>\n",
       "      <td>590.0</td>\n",
       "      <td>5.0</td>\n",
       "      <td>Consulting</td>\n",
       "      <td>Deny</td>\n",
       "    </tr>\n",
       "    <tr>\n",
       "      <th>...</th>\n",
       "      <td>...</td>\n",
       "      <td>...</td>\n",
       "      <td>...</td>\n",
       "      <td>...</td>\n",
       "      <td>...</td>\n",
       "      <td>...</td>\n",
       "      <td>...</td>\n",
       "      <td>...</td>\n",
       "      <td>...</td>\n",
       "      <td>...</td>\n",
       "    </tr>\n",
       "    <tr>\n",
       "      <th>6189</th>\n",
       "      <td>6190</td>\n",
       "      <td>Male</td>\n",
       "      <td>False</td>\n",
       "      <td>3.49</td>\n",
       "      <td>Business</td>\n",
       "      <td>White</td>\n",
       "      <td>640.0</td>\n",
       "      <td>5.0</td>\n",
       "      <td>Other</td>\n",
       "      <td>Deny</td>\n",
       "    </tr>\n",
       "    <tr>\n",
       "      <th>6190</th>\n",
       "      <td>6191</td>\n",
       "      <td>Male</td>\n",
       "      <td>False</td>\n",
       "      <td>3.18</td>\n",
       "      <td>STEM</td>\n",
       "      <td>Black</td>\n",
       "      <td>670.0</td>\n",
       "      <td>4.0</td>\n",
       "      <td>Consulting</td>\n",
       "      <td>Deny</td>\n",
       "    </tr>\n",
       "    <tr>\n",
       "      <th>6191</th>\n",
       "      <td>6192</td>\n",
       "      <td>Female</td>\n",
       "      <td>True</td>\n",
       "      <td>3.22</td>\n",
       "      <td>Business</td>\n",
       "      <td>NaN</td>\n",
       "      <td>680.0</td>\n",
       "      <td>5.0</td>\n",
       "      <td>Health Care</td>\n",
       "      <td>Admit</td>\n",
       "    </tr>\n",
       "    <tr>\n",
       "      <th>6192</th>\n",
       "      <td>6193</td>\n",
       "      <td>Male</td>\n",
       "      <td>True</td>\n",
       "      <td>3.36</td>\n",
       "      <td>Business</td>\n",
       "      <td>NaN</td>\n",
       "      <td>590.0</td>\n",
       "      <td>5.0</td>\n",
       "      <td>Other</td>\n",
       "      <td>Deny</td>\n",
       "    </tr>\n",
       "    <tr>\n",
       "      <th>6193</th>\n",
       "      <td>6194</td>\n",
       "      <td>Male</td>\n",
       "      <td>False</td>\n",
       "      <td>3.23</td>\n",
       "      <td>STEM</td>\n",
       "      <td>Hispanic</td>\n",
       "      <td>650.0</td>\n",
       "      <td>4.0</td>\n",
       "      <td>Consulting</td>\n",
       "      <td>Deny</td>\n",
       "    </tr>\n",
       "  </tbody>\n",
       "</table>\n",
       "<p>6194 rows × 10 columns</p>\n",
       "</div>"
      ],
      "text/plain": [
       "      application_id  gender  international   gpa       major      race  \\\n",
       "0                  1  Female          False  3.30    Business     Asian   \n",
       "1                  2    Male          False  3.28  Humanities     Black   \n",
       "2                  3  Female           True  3.30    Business       NaN   \n",
       "3                  4    Male          False  3.47        STEM     Black   \n",
       "4                  5    Male          False  3.35        STEM  Hispanic   \n",
       "...              ...     ...            ...   ...         ...       ...   \n",
       "6189            6190    Male          False  3.49    Business     White   \n",
       "6190            6191    Male          False  3.18        STEM     Black   \n",
       "6191            6192  Female           True  3.22    Business       NaN   \n",
       "6192            6193    Male           True  3.36    Business       NaN   \n",
       "6193            6194    Male          False  3.23        STEM  Hispanic   \n",
       "\n",
       "       gmat  work_exp          work_industry admission  \n",
       "0     620.0       3.0     Financial Services     Admit  \n",
       "1     680.0       5.0  Investment Management      Deny  \n",
       "2     710.0       5.0             Technology     Admit  \n",
       "3     690.0       6.0             Technology      Deny  \n",
       "4     590.0       5.0             Consulting      Deny  \n",
       "...     ...       ...                    ...       ...  \n",
       "6189  640.0       5.0                  Other      Deny  \n",
       "6190  670.0       4.0             Consulting      Deny  \n",
       "6191  680.0       5.0            Health Care     Admit  \n",
       "6192  590.0       5.0                  Other      Deny  \n",
       "6193  650.0       4.0             Consulting      Deny  \n",
       "\n",
       "[6194 rows x 10 columns]"
      ]
     },
     "execution_count": 589,
     "metadata": {},
     "output_type": "execute_result"
    }
   ],
   "source": [
    "df['admission'] = df['admission'].fillna('Deny')\n",
    "df"
   ]
  },
  {
   "cell_type": "markdown",
   "id": "8f88cbe8-c30b-4d08-8593-82c5cd28dbaa",
   "metadata": {},
   "source": [
    "### Here we take a look to examine if the rows with nulls for race differ in any apparent way, which the output below gives no evidence for."
   ]
  },
  {
   "cell_type": "code",
   "execution_count": 591,
   "id": "dc49b30f-5b81-4293-95d5-46d3d32b199c",
   "metadata": {},
   "outputs": [
    {
     "name": "stdout",
     "output_type": "stream",
     "text": [
      "\n",
      "Dataframe where race is null everywhere:\n",
      "\n"
     ]
    },
    {
     "data": {
      "text/html": [
       "<div>\n",
       "<style scoped>\n",
       "    .dataframe tbody tr th:only-of-type {\n",
       "        vertical-align: middle;\n",
       "    }\n",
       "\n",
       "    .dataframe tbody tr th {\n",
       "        vertical-align: top;\n",
       "    }\n",
       "\n",
       "    .dataframe thead th {\n",
       "        text-align: right;\n",
       "    }\n",
       "</style>\n",
       "<table border=\"1\" class=\"dataframe\">\n",
       "  <thead>\n",
       "    <tr style=\"text-align: right;\">\n",
       "      <th></th>\n",
       "      <th>application_id</th>\n",
       "      <th>gender</th>\n",
       "      <th>international</th>\n",
       "      <th>gpa</th>\n",
       "      <th>major</th>\n",
       "      <th>race</th>\n",
       "      <th>gmat</th>\n",
       "      <th>work_exp</th>\n",
       "      <th>work_industry</th>\n",
       "      <th>admission</th>\n",
       "    </tr>\n",
       "  </thead>\n",
       "  <tbody>\n",
       "    <tr>\n",
       "      <th>2</th>\n",
       "      <td>3</td>\n",
       "      <td>Female</td>\n",
       "      <td>True</td>\n",
       "      <td>3.30</td>\n",
       "      <td>Business</td>\n",
       "      <td>NaN</td>\n",
       "      <td>710.0</td>\n",
       "      <td>5.0</td>\n",
       "      <td>Technology</td>\n",
       "      <td>Admit</td>\n",
       "    </tr>\n",
       "    <tr>\n",
       "      <th>7</th>\n",
       "      <td>8</td>\n",
       "      <td>Male</td>\n",
       "      <td>True</td>\n",
       "      <td>3.02</td>\n",
       "      <td>Business</td>\n",
       "      <td>NaN</td>\n",
       "      <td>630.0</td>\n",
       "      <td>6.0</td>\n",
       "      <td>Financial Services</td>\n",
       "      <td>Deny</td>\n",
       "    </tr>\n",
       "    <tr>\n",
       "      <th>11</th>\n",
       "      <td>12</td>\n",
       "      <td>Male</td>\n",
       "      <td>True</td>\n",
       "      <td>2.85</td>\n",
       "      <td>Humanities</td>\n",
       "      <td>NaN</td>\n",
       "      <td>580.0</td>\n",
       "      <td>4.0</td>\n",
       "      <td>PE/VC</td>\n",
       "      <td>Deny</td>\n",
       "    </tr>\n",
       "    <tr>\n",
       "      <th>15</th>\n",
       "      <td>16</td>\n",
       "      <td>Female</td>\n",
       "      <td>True</td>\n",
       "      <td>3.05</td>\n",
       "      <td>Humanities</td>\n",
       "      <td>NaN</td>\n",
       "      <td>710.0</td>\n",
       "      <td>4.0</td>\n",
       "      <td>Consulting</td>\n",
       "      <td>Admit</td>\n",
       "    </tr>\n",
       "    <tr>\n",
       "      <th>19</th>\n",
       "      <td>20</td>\n",
       "      <td>Male</td>\n",
       "      <td>True</td>\n",
       "      <td>3.09</td>\n",
       "      <td>Business</td>\n",
       "      <td>NaN</td>\n",
       "      <td>670.0</td>\n",
       "      <td>8.0</td>\n",
       "      <td>Consulting</td>\n",
       "      <td>Deny</td>\n",
       "    </tr>\n",
       "    <tr>\n",
       "      <th>...</th>\n",
       "      <td>...</td>\n",
       "      <td>...</td>\n",
       "      <td>...</td>\n",
       "      <td>...</td>\n",
       "      <td>...</td>\n",
       "      <td>...</td>\n",
       "      <td>...</td>\n",
       "      <td>...</td>\n",
       "      <td>...</td>\n",
       "      <td>...</td>\n",
       "    </tr>\n",
       "    <tr>\n",
       "      <th>6167</th>\n",
       "      <td>6168</td>\n",
       "      <td>Male</td>\n",
       "      <td>True</td>\n",
       "      <td>3.24</td>\n",
       "      <td>Business</td>\n",
       "      <td>NaN</td>\n",
       "      <td>570.0</td>\n",
       "      <td>4.0</td>\n",
       "      <td>Consulting</td>\n",
       "      <td>Deny</td>\n",
       "    </tr>\n",
       "    <tr>\n",
       "      <th>6176</th>\n",
       "      <td>6177</td>\n",
       "      <td>Female</td>\n",
       "      <td>True</td>\n",
       "      <td>3.29</td>\n",
       "      <td>Business</td>\n",
       "      <td>NaN</td>\n",
       "      <td>640.0</td>\n",
       "      <td>5.0</td>\n",
       "      <td>Technology</td>\n",
       "      <td>Deny</td>\n",
       "    </tr>\n",
       "    <tr>\n",
       "      <th>6186</th>\n",
       "      <td>6187</td>\n",
       "      <td>Male</td>\n",
       "      <td>True</td>\n",
       "      <td>3.23</td>\n",
       "      <td>Humanities</td>\n",
       "      <td>NaN</td>\n",
       "      <td>610.0</td>\n",
       "      <td>7.0</td>\n",
       "      <td>Financial Services</td>\n",
       "      <td>Deny</td>\n",
       "    </tr>\n",
       "    <tr>\n",
       "      <th>6191</th>\n",
       "      <td>6192</td>\n",
       "      <td>Female</td>\n",
       "      <td>True</td>\n",
       "      <td>3.22</td>\n",
       "      <td>Business</td>\n",
       "      <td>NaN</td>\n",
       "      <td>680.0</td>\n",
       "      <td>5.0</td>\n",
       "      <td>Health Care</td>\n",
       "      <td>Admit</td>\n",
       "    </tr>\n",
       "    <tr>\n",
       "      <th>6192</th>\n",
       "      <td>6193</td>\n",
       "      <td>Male</td>\n",
       "      <td>True</td>\n",
       "      <td>3.36</td>\n",
       "      <td>Business</td>\n",
       "      <td>NaN</td>\n",
       "      <td>590.0</td>\n",
       "      <td>5.0</td>\n",
       "      <td>Other</td>\n",
       "      <td>Deny</td>\n",
       "    </tr>\n",
       "  </tbody>\n",
       "</table>\n",
       "<p>1842 rows × 10 columns</p>\n",
       "</div>"
      ],
      "text/plain": [
       "      application_id  gender  international   gpa       major race   gmat  \\\n",
       "2                  3  Female           True  3.30    Business  NaN  710.0   \n",
       "7                  8    Male           True  3.02    Business  NaN  630.0   \n",
       "11                12    Male           True  2.85  Humanities  NaN  580.0   \n",
       "15                16  Female           True  3.05  Humanities  NaN  710.0   \n",
       "19                20    Male           True  3.09    Business  NaN  670.0   \n",
       "...              ...     ...            ...   ...         ...  ...    ...   \n",
       "6167            6168    Male           True  3.24    Business  NaN  570.0   \n",
       "6176            6177  Female           True  3.29    Business  NaN  640.0   \n",
       "6186            6187    Male           True  3.23  Humanities  NaN  610.0   \n",
       "6191            6192  Female           True  3.22    Business  NaN  680.0   \n",
       "6192            6193    Male           True  3.36    Business  NaN  590.0   \n",
       "\n",
       "      work_exp       work_industry admission  \n",
       "2          5.0          Technology     Admit  \n",
       "7          6.0  Financial Services      Deny  \n",
       "11         4.0               PE/VC      Deny  \n",
       "15         4.0          Consulting     Admit  \n",
       "19         8.0          Consulting      Deny  \n",
       "...        ...                 ...       ...  \n",
       "6167       4.0          Consulting      Deny  \n",
       "6176       5.0          Technology      Deny  \n",
       "6186       7.0  Financial Services      Deny  \n",
       "6191       5.0         Health Care     Admit  \n",
       "6192       5.0               Other      Deny  \n",
       "\n",
       "[1842 rows x 10 columns]"
      ]
     },
     "execution_count": 591,
     "metadata": {},
     "output_type": "execute_result"
    }
   ],
   "source": [
    "print('\\nDataframe where race is null everywhere:\\n')\n",
    "df_race_nan = df[df['race'].isna()]\n",
    "df_race_nan"
   ]
  },
  {
   "cell_type": "markdown",
   "id": "9af9d8d8-8e51-49e8-aeb2-9c78ef3fea41",
   "metadata": {},
   "source": [
    "## Looking at the distributions of majors, first table when race is nan and second table is for all rows"
   ]
  },
  {
   "cell_type": "code",
   "execution_count": 593,
   "id": "a933fdc6-c0a0-4fbd-b1ed-7bcf1edb5667",
   "metadata": {},
   "outputs": [
    {
     "data": {
      "text/plain": [
       "major\n",
       "Business      563\n",
       "Humanities    721\n",
       "STEM          558\n",
       "dtype: int64"
      ]
     },
     "execution_count": 593,
     "metadata": {},
     "output_type": "execute_result"
    },
    {
     "data": {
      "text/plain": [
       "major\n",
       "Business      1838\n",
       "Humanities    2481\n",
       "STEM          1875\n",
       "dtype: int64"
      ]
     },
     "execution_count": 593,
     "metadata": {},
     "output_type": "execute_result"
    }
   ],
   "source": [
    "df_race_nan.groupby('major').size()\n",
    "df.groupby('major').size()"
   ]
  },
  {
   "cell_type": "markdown",
   "id": "7d66b17e-1479-475d-9dc5-d549f7d741f0",
   "metadata": {},
   "source": [
    "# Examining values in the admission column after removing the null and replacing them with denials"
   ]
  },
  {
   "cell_type": "code",
   "execution_count": 595,
   "id": "a1c10283-6cfb-4789-ba25-3bffac689411",
   "metadata": {},
   "outputs": [
    {
     "data": {
      "text/plain": [
       "array(['Admit', 'Deny', 'Waitlist'], dtype=object)"
      ]
     },
     "execution_count": 595,
     "metadata": {},
     "output_type": "execute_result"
    },
    {
     "data": {
      "text/plain": [
       "3"
      ]
     },
     "execution_count": 595,
     "metadata": {},
     "output_type": "execute_result"
    },
    {
     "data": {
      "text/plain": [
       "admission\n",
       "Admit        900\n",
       "Deny        5194\n",
       "Waitlist     100\n",
       "dtype: int64"
      ]
     },
     "execution_count": 595,
     "metadata": {},
     "output_type": "execute_result"
    }
   ],
   "source": [
    "df['admission'].unique()\n",
    "df['admission'].nunique()\n",
    "df.groupby('admission').size()"
   ]
  },
  {
   "cell_type": "code",
   "execution_count": 596,
   "id": "176056ee-3e69-4fb1-9053-ef2ff59a2a44",
   "metadata": {},
   "outputs": [
    {
     "name": "stdout",
     "output_type": "stream",
     "text": [
      "<class 'pandas.core.frame.DataFrame'>\n",
      "RangeIndex: 6194 entries, 0 to 6193\n",
      "Data columns (total 10 columns):\n",
      " #   Column          Non-Null Count  Dtype  \n",
      "---  ------          --------------  -----  \n",
      " 0   application_id  6194 non-null   int64  \n",
      " 1   gender          6194 non-null   object \n",
      " 2   international   6194 non-null   bool   \n",
      " 3   gpa             6194 non-null   float64\n",
      " 4   major           6194 non-null   object \n",
      " 5   race            4352 non-null   object \n",
      " 6   gmat            6194 non-null   float64\n",
      " 7   work_exp        6194 non-null   float64\n",
      " 8   work_industry   6194 non-null   object \n",
      " 9   admission       6194 non-null   object \n",
      "dtypes: bool(1), float64(3), int64(1), object(5)\n",
      "memory usage: 441.7+ KB\n"
     ]
    }
   ],
   "source": [
    "df.info()"
   ]
  },
  {
   "cell_type": "markdown",
   "id": "8c412457-37d1-4cfd-a24b-28e1bc98f220",
   "metadata": {},
   "source": [
    "## Let's look at the distributions of some of the variables in the table:"
   ]
  },
  {
   "cell_type": "code",
   "execution_count": 598,
   "id": "39d83f19-b3f5-4f2f-9a15-3b49da00a3e6",
   "metadata": {},
   "outputs": [
    {
     "name": "stdout",
     "output_type": "stream",
     "text": [
      "\n",
      "\n",
      "gender\n",
      "Male      3943\n",
      "Female    2251\n",
      "Name: count, dtype: int64\n"
     ]
    },
    {
     "data": {
      "text/plain": [
       "<Axes: xlabel='gender'>"
      ]
     },
     "execution_count": 598,
     "metadata": {},
     "output_type": "execute_result"
    },
    {
     "data": {
      "text/plain": [
       "Text(0.5, 0, 'gender')"
      ]
     },
     "execution_count": 598,
     "metadata": {},
     "output_type": "execute_result"
    },
    {
     "data": {
      "text/plain": [
       "Text(0, 0.5, 'count')"
      ]
     },
     "execution_count": 598,
     "metadata": {},
     "output_type": "execute_result"
    },
    {
     "data": {
      "image/png": "[encoded data removed]",
      "text/plain": [
       "<Figure size 640x480 with 1 Axes>"
      ]
     },
     "metadata": {},
     "output_type": "display_data"
    },
    {
     "name": "stdout",
     "output_type": "stream",
     "text": [
      "\n",
      "\n",
      "international\n",
      "False    4352\n",
      "True     1842\n",
      "Name: count, dtype: int64\n"
     ]
    },
    {
     "data": {
      "text/plain": [
       "<Axes: xlabel='international'>"
      ]
     },
     "execution_count": 598,
     "metadata": {},
     "output_type": "execute_result"
    },
    {
     "data": {
      "text/plain": [
       "Text(0.5, 0, 'international')"
      ]
     },
     "execution_count": 598,
     "metadata": {},
     "output_type": "execute_result"
    },
    {
     "data": {
      "text/plain": [
       "Text(0, 0.5, 'count')"
      ]
     },
     "execution_count": 598,
     "metadata": {},
     "output_type": "execute_result"
    },
    {
     "data": {
      "image/png": "[encoded data removed]",
      "text/plain": [
       "<Figure size 640x480 with 1 Axes>"
      ]
     },
     "metadata": {},
     "output_type": "display_data"
    },
    {
     "name": "stdout",
     "output_type": "stream",
     "text": [
      "\n",
      "\n",
      "major\n",
      "Humanities    2481\n",
      "STEM          1875\n",
      "Business      1838\n",
      "Name: count, dtype: int64\n"
     ]
    },
    {
     "data": {
      "text/plain": [
       "<Axes: xlabel='major'>"
      ]
     },
     "execution_count": 598,
     "metadata": {},
     "output_type": "execute_result"
    },
    {
     "data": {
      "text/plain": [
       "Text(0.5, 0, 'major')"
      ]
     },
     "execution_count": 598,
     "metadata": {},
     "output_type": "execute_result"
    },
    {
     "data": {
      "text/plain": [
       "Text(0, 0.5, 'count')"
      ]
     },
     "execution_count": 598,
     "metadata": {},
     "output_type": "execute_result"
    },
    {
     "data": {
      "image/png": "[encoded data removed]",
      "text/plain": [
       "<Figure size 640x480 with 1 Axes>"
      ]
     },
     "metadata": {},
     "output_type": "display_data"
    },
    {
     "name": "stdout",
     "output_type": "stream",
     "text": [
      "\n",
      "\n",
      "race\n",
      "White       1456\n",
      "Asian       1147\n",
      "Black        916\n",
      "Hispanic     596\n",
      "Other        237\n",
      "Name: count, dtype: int64\n"
     ]
    },
    {
     "data": {
      "text/plain": [
       "<Axes: xlabel='race'>"
      ]
     },
     "execution_count": 598,
     "metadata": {},
     "output_type": "execute_result"
    },
    {
     "data": {
      "text/plain": [
       "Text(0.5, 0, 'race')"
      ]
     },
     "execution_count": 598,
     "metadata": {},
     "output_type": "execute_result"
    },
    {
     "data": {
      "text/plain": [
       "Text(0, 0.5, 'count')"
      ]
     },
     "execution_count": 598,
     "metadata": {},
     "output_type": "execute_result"
    },
    {
     "data": {
      "image/png": "[encoded data removed]",
      "text/plain": [
       "<Figure size 640x480 with 1 Axes>"
      ]
     },
     "metadata": {},
     "output_type": "display_data"
    },
    {
     "name": "stdout",
     "output_type": "stream",
     "text": [
      "\n",
      "\n",
      "work_industry\n",
      "Consulting               1619\n",
      "PE/VC                     907\n",
      "Technology                716\n",
      "Nonprofit/Gov             651\n",
      "Investment Banking        580\n",
      "Financial Services        451\n",
      "Other                     421\n",
      "Health Care               334\n",
      "Investment Management     166\n",
      "CPG                       114\n",
      "Real Estate               111\n",
      "Media/Entertainment        59\n",
      "Retail                     33\n",
      "Energy                     32\n",
      "Name: count, dtype: int64\n"
     ]
    },
    {
     "data": {
      "text/plain": [
       "<Axes: xlabel='work_industry'>"
      ]
     },
     "execution_count": 598,
     "metadata": {},
     "output_type": "execute_result"
    },
    {
     "data": {
      "text/plain": [
       "Text(0.5, 0, 'work_industry')"
      ]
     },
     "execution_count": 598,
     "metadata": {},
     "output_type": "execute_result"
    },
    {
     "data": {
      "text/plain": [
       "Text(0, 0.5, 'count')"
      ]
     },
     "execution_count": 598,
     "metadata": {},
     "output_type": "execute_result"
    },
    {
     "data": {
      "text/plain": [
       "(array([ 0,  1,  2,  3,  4,  5,  6,  7,  8,  9, 10, 11, 12, 13]),\n",
       " [Text(0, 0, 'Consulting'),\n",
       "  Text(1, 0, 'PE/VC'),\n",
       "  Text(2, 0, 'Technology'),\n",
       "  Text(3, 0, 'Nonprofit/Gov'),\n",
       "  Text(4, 0, 'Investment Banking'),\n",
       "  Text(5, 0, 'Financial Services'),\n",
       "  Text(6, 0, 'Other'),\n",
       "  Text(7, 0, 'Health Care'),\n",
       "  Text(8, 0, 'Investment Management'),\n",
       "  Text(9, 0, 'CPG'),\n",
       "  Text(10, 0, 'Real Estate'),\n",
       "  Text(11, 0, 'Media/Entertainment'),\n",
       "  Text(12, 0, 'Retail'),\n",
       "  Text(13, 0, 'Energy')])"
      ]
     },
     "execution_count": 598,
     "metadata": {},
     "output_type": "execute_result"
    },
    {
     "data": {
      "image/png": "[encoded data removed]",
      "text/plain": [
       "<Figure size 640x480 with 1 Axes>"
      ]
     },
     "metadata": {},
     "output_type": "display_data"
    }
   ],
   "source": [
    "vars = ['gender', 'international', 'major', 'race', 'work_industry']\n",
    "for i in vars:\n",
    "    print('\\n')\n",
    "    print(df[i].value_counts())\n",
    "    sns.barplot(x = df[i].value_counts().index, y = df[i].value_counts().values)\n",
    "    plt.xlabel(i)\n",
    "    plt.ylabel('count')\n",
    "    if i == 'work_industry':\n",
    "        plt.xticks(rotation = 90)\n",
    "    plt.show();"
   ]
  },
  {
   "cell_type": "code",
   "execution_count": 599,
   "id": "fac5503c-f585-472f-8971-2c3971b32c27",
   "metadata": {},
   "outputs": [
    {
     "name": "stdout",
     "output_type": "stream",
     "text": [
      "Histogram of GPA\n"
     ]
    },
    {
     "data": {
      "text/plain": [
       "<Axes: >"
      ]
     },
     "execution_count": 599,
     "metadata": {},
     "output_type": "execute_result"
    },
    {
     "data": {
      "image/png": "[encoded data removed]",
      "text/plain": [
       "<Figure size 640x480 with 1 Axes>"
      ]
     },
     "metadata": {},
     "output_type": "display_data"
    },
    {
     "name": "stdout",
     "output_type": "stream",
     "text": [
      "\n",
      "Histogram of work experience years\n"
     ]
    },
    {
     "data": {
      "text/plain": [
       "<Axes: >"
      ]
     },
     "execution_count": 599,
     "metadata": {},
     "output_type": "execute_result"
    },
    {
     "data": {
      "image/png": "[encoded data removed]",
      "text/plain": [
       "<Figure size 640x480 with 1 Axes>"
      ]
     },
     "metadata": {},
     "output_type": "display_data"
    },
    {
     "name": "stdout",
     "output_type": "stream",
     "text": [
      "\n",
      "Histogram of GMAT\n"
     ]
    },
    {
     "data": {
      "text/plain": [
       "<Axes: >"
      ]
     },
     "execution_count": 599,
     "metadata": {},
     "output_type": "execute_result"
    },
    {
     "data": {
      "image/png": "[encoded data removed]",
      "text/plain": [
       "<Figure size 640x480 with 1 Axes>"
      ]
     },
     "metadata": {},
     "output_type": "display_data"
    }
   ],
   "source": [
    "print('Histogram of GPA')\n",
    "df['gpa'].hist(bins = 20)\n",
    "plt.show()\n",
    "print('\\nHistogram of work experience years')\n",
    "df['work_exp'].hist(bins = 20)\n",
    "plt.show()\n",
    "print('\\nHistogram of GMAT')\n",
    "df['gmat'].hist(bins = 20)\n",
    "plt.show()"
   ]
  },
  {
   "cell_type": "markdown",
   "id": "06e3271c-5aed-4649-b381-c55b644d1324",
   "metadata": {},
   "source": [
    "## Performing a sanity check to make sure there are no nonsensical values in any of the columns"
   ]
  },
  {
   "cell_type": "code",
   "execution_count": 601,
   "id": "73eeae54-8c04-4ed7-a57a-dd658deaca52",
   "metadata": {},
   "outputs": [
    {
     "data": {
      "text/html": [
       "<div>\n",
       "<style scoped>\n",
       "    .dataframe tbody tr th:only-of-type {\n",
       "        vertical-align: middle;\n",
       "    }\n",
       "\n",
       "    .dataframe tbody tr th {\n",
       "        vertical-align: top;\n",
       "    }\n",
       "\n",
       "    .dataframe thead th {\n",
       "        text-align: right;\n",
       "    }\n",
       "</style>\n",
       "<table border=\"1\" class=\"dataframe\">\n",
       "  <thead>\n",
       "    <tr style=\"text-align: right;\">\n",
       "      <th></th>\n",
       "      <th>count</th>\n",
       "      <th>mean</th>\n",
       "      <th>std</th>\n",
       "      <th>min</th>\n",
       "      <th>25%</th>\n",
       "      <th>50%</th>\n",
       "      <th>75%</th>\n",
       "      <th>max</th>\n",
       "    </tr>\n",
       "  </thead>\n",
       "  <tbody>\n",
       "    <tr>\n",
       "      <th>gpa</th>\n",
       "      <td>6194.0</td>\n",
       "      <td>3.250714</td>\n",
       "      <td>0.151541</td>\n",
       "      <td>2.65</td>\n",
       "      <td>3.15</td>\n",
       "      <td>3.25</td>\n",
       "      <td>3.35</td>\n",
       "      <td>3.77</td>\n",
       "    </tr>\n",
       "    <tr>\n",
       "      <th>gmat</th>\n",
       "      <td>6194.0</td>\n",
       "      <td>651.092993</td>\n",
       "      <td>49.294883</td>\n",
       "      <td>570.00</td>\n",
       "      <td>610.00</td>\n",
       "      <td>650.00</td>\n",
       "      <td>680.00</td>\n",
       "      <td>780.00</td>\n",
       "    </tr>\n",
       "    <tr>\n",
       "      <th>work_exp</th>\n",
       "      <td>6194.0</td>\n",
       "      <td>5.016952</td>\n",
       "      <td>1.032432</td>\n",
       "      <td>1.00</td>\n",
       "      <td>4.00</td>\n",
       "      <td>5.00</td>\n",
       "      <td>6.00</td>\n",
       "      <td>9.00</td>\n",
       "    </tr>\n",
       "  </tbody>\n",
       "</table>\n",
       "</div>"
      ],
      "text/plain": [
       "           count        mean        std     min     25%     50%     75%  \\\n",
       "gpa       6194.0    3.250714   0.151541    2.65    3.15    3.25    3.35   \n",
       "gmat      6194.0  651.092993  49.294883  570.00  610.00  650.00  680.00   \n",
       "work_exp  6194.0    5.016952   1.032432    1.00    4.00    5.00    6.00   \n",
       "\n",
       "             max  \n",
       "gpa         3.77  \n",
       "gmat      780.00  \n",
       "work_exp    9.00  "
      ]
     },
     "execution_count": 601,
     "metadata": {},
     "output_type": "execute_result"
    }
   ],
   "source": [
    "df.loc[:, df.columns != 'application_id'].describe().T"
   ]
  },
  {
   "cell_type": "code",
   "execution_count": 602,
   "id": "6c49539b-fd99-4cd4-97b6-8f3b641087ef",
   "metadata": {},
   "outputs": [
    {
     "data": {
      "text/plain": [
       "Index(['application_id', 'gender', 'international', 'gpa', 'major', 'race',\n",
       "       'gmat', 'work_exp', 'work_industry', 'admission'],\n",
       "      dtype='object')"
      ]
     },
     "execution_count": 602,
     "metadata": {},
     "output_type": "execute_result"
    },
    {
     "data": {
      "text/plain": [
       "array([3., 5., 6., 2., 4., 8., 7., 9., 1.])"
      ]
     },
     "execution_count": 602,
     "metadata": {},
     "output_type": "execute_result"
    }
   ],
   "source": [
    "categorical_vars = ['gender', 'international', 'major', 'race', 'work_exp', 'work_industry']\n",
    "df.columns\n",
    "df['work_exp'].unique()"
   ]
  },
  {
   "cell_type": "code",
   "execution_count": 603,
   "id": "e3b21b13-1340-4b77-87b0-16094bafa81c",
   "metadata": {},
   "outputs": [],
   "source": [
    "dictionary = {}\n",
    "\n",
    "for var in categorical_vars:\n",
    "    for val in df[var].unique():\n",
    "        percent_admitted = 100*(df[df[var] == val]['admission'] == 'Admit').mean()\n",
    "        dict_key = var + ': ' + str(val)\n",
    "        dictionary[dict_key] = percent_admitted"
   ]
  },
  {
   "cell_type": "code",
   "execution_count": 604,
   "id": "ad0eb293-ae97-463c-8f68-661a02017a59",
   "metadata": {},
   "outputs": [
    {
     "data": {
      "text/html": [
       "<div>\n",
       "<style scoped>\n",
       "    .dataframe tbody tr th:only-of-type {\n",
       "        vertical-align: middle;\n",
       "    }\n",
       "\n",
       "    .dataframe tbody tr th {\n",
       "        vertical-align: top;\n",
       "    }\n",
       "\n",
       "    .dataframe thead th {\n",
       "        text-align: right;\n",
       "    }\n",
       "</style>\n",
       "<table border=\"1\" class=\"dataframe\">\n",
       "  <thead>\n",
       "    <tr style=\"text-align: right;\">\n",
       "      <th></th>\n",
       "      <th>Variable Category</th>\n",
       "      <th>Percent Accepted</th>\n",
       "    </tr>\n",
       "  </thead>\n",
       "  <tbody>\n",
       "    <tr>\n",
       "      <th>0</th>\n",
       "      <td>gender: Female</td>\n",
       "      <td>19.991115</td>\n",
       "    </tr>\n",
       "    <tr>\n",
       "      <th>1</th>\n",
       "      <td>gender: Male</td>\n",
       "      <td>11.412630</td>\n",
       "    </tr>\n",
       "    <tr>\n",
       "      <th>2</th>\n",
       "      <td>international: False</td>\n",
       "      <td>14.292279</td>\n",
       "    </tr>\n",
       "    <tr>\n",
       "      <th>3</th>\n",
       "      <td>international: True</td>\n",
       "      <td>15.092291</td>\n",
       "    </tr>\n",
       "    <tr>\n",
       "      <th>4</th>\n",
       "      <td>major: Business</td>\n",
       "      <td>14.689880</td>\n",
       "    </tr>\n",
       "    <tr>\n",
       "      <th>5</th>\n",
       "      <td>major: Humanities</td>\n",
       "      <td>14.792422</td>\n",
       "    </tr>\n",
       "    <tr>\n",
       "      <th>6</th>\n",
       "      <td>major: STEM</td>\n",
       "      <td>14.026667</td>\n",
       "    </tr>\n",
       "    <tr>\n",
       "      <th>7</th>\n",
       "      <td>race: Asian</td>\n",
       "      <td>16.564952</td>\n",
       "    </tr>\n",
       "    <tr>\n",
       "      <th>8</th>\n",
       "      <td>race: Black</td>\n",
       "      <td>8.733624</td>\n",
       "    </tr>\n",
       "    <tr>\n",
       "      <th>9</th>\n",
       "      <td>race: nan</td>\n",
       "      <td>NaN</td>\n",
       "    </tr>\n",
       "    <tr>\n",
       "      <th>10</th>\n",
       "      <td>race: Hispanic</td>\n",
       "      <td>10.402685</td>\n",
       "    </tr>\n",
       "    <tr>\n",
       "      <th>11</th>\n",
       "      <td>race: White</td>\n",
       "      <td>16.758242</td>\n",
       "    </tr>\n",
       "    <tr>\n",
       "      <th>12</th>\n",
       "      <td>race: Other</td>\n",
       "      <td>19.409283</td>\n",
       "    </tr>\n",
       "    <tr>\n",
       "      <th>13</th>\n",
       "      <td>work_exp: 3.0</td>\n",
       "      <td>14.905149</td>\n",
       "    </tr>\n",
       "    <tr>\n",
       "      <th>14</th>\n",
       "      <td>work_exp: 5.0</td>\n",
       "      <td>15.295577</td>\n",
       "    </tr>\n",
       "    <tr>\n",
       "      <th>15</th>\n",
       "      <td>work_exp: 6.0</td>\n",
       "      <td>15.314136</td>\n",
       "    </tr>\n",
       "    <tr>\n",
       "      <th>16</th>\n",
       "      <td>work_exp: 2.0</td>\n",
       "      <td>9.375000</td>\n",
       "    </tr>\n",
       "    <tr>\n",
       "      <th>17</th>\n",
       "      <td>work_exp: 4.0</td>\n",
       "      <td>12.665275</td>\n",
       "    </tr>\n",
       "    <tr>\n",
       "      <th>18</th>\n",
       "      <td>work_exp: 8.0</td>\n",
       "      <td>7.894737</td>\n",
       "    </tr>\n",
       "    <tr>\n",
       "      <th>19</th>\n",
       "      <td>work_exp: 7.0</td>\n",
       "      <td>14.168937</td>\n",
       "    </tr>\n",
       "    <tr>\n",
       "      <th>20</th>\n",
       "      <td>work_exp: 9.0</td>\n",
       "      <td>0.000000</td>\n",
       "    </tr>\n",
       "    <tr>\n",
       "      <th>21</th>\n",
       "      <td>work_exp: 1.0</td>\n",
       "      <td>50.000000</td>\n",
       "    </tr>\n",
       "    <tr>\n",
       "      <th>22</th>\n",
       "      <td>work_industry: Financial Services</td>\n",
       "      <td>19.068736</td>\n",
       "    </tr>\n",
       "    <tr>\n",
       "      <th>23</th>\n",
       "      <td>work_industry: Investment Management</td>\n",
       "      <td>21.686747</td>\n",
       "    </tr>\n",
       "    <tr>\n",
       "      <th>24</th>\n",
       "      <td>work_industry: Technology</td>\n",
       "      <td>15.642458</td>\n",
       "    </tr>\n",
       "    <tr>\n",
       "      <th>25</th>\n",
       "      <td>work_industry: Consulting</td>\n",
       "      <td>13.835701</td>\n",
       "    </tr>\n",
       "    <tr>\n",
       "      <th>26</th>\n",
       "      <td>work_industry: Nonprofit/Gov</td>\n",
       "      <td>13.671275</td>\n",
       "    </tr>\n",
       "    <tr>\n",
       "      <th>27</th>\n",
       "      <td>work_industry: PE/VC</td>\n",
       "      <td>13.450937</td>\n",
       "    </tr>\n",
       "    <tr>\n",
       "      <th>28</th>\n",
       "      <td>work_industry: Health Care</td>\n",
       "      <td>11.976048</td>\n",
       "    </tr>\n",
       "    <tr>\n",
       "      <th>29</th>\n",
       "      <td>work_industry: Investment Banking</td>\n",
       "      <td>14.137931</td>\n",
       "    </tr>\n",
       "    <tr>\n",
       "      <th>30</th>\n",
       "      <td>work_industry: Other</td>\n",
       "      <td>13.539192</td>\n",
       "    </tr>\n",
       "    <tr>\n",
       "      <th>31</th>\n",
       "      <td>work_industry: Retail</td>\n",
       "      <td>12.121212</td>\n",
       "    </tr>\n",
       "    <tr>\n",
       "      <th>32</th>\n",
       "      <td>work_industry: Energy</td>\n",
       "      <td>9.375000</td>\n",
       "    </tr>\n",
       "    <tr>\n",
       "      <th>33</th>\n",
       "      <td>work_industry: CPG</td>\n",
       "      <td>17.543860</td>\n",
       "    </tr>\n",
       "    <tr>\n",
       "      <th>34</th>\n",
       "      <td>work_industry: Real Estate</td>\n",
       "      <td>16.216216</td>\n",
       "    </tr>\n",
       "    <tr>\n",
       "      <th>35</th>\n",
       "      <td>work_industry: Media/Entertainment</td>\n",
       "      <td>11.864407</td>\n",
       "    </tr>\n",
       "  </tbody>\n",
       "</table>\n",
       "</div>"
      ],
      "text/plain": [
       "                       Variable Category  Percent Accepted\n",
       "0                         gender: Female         19.991115\n",
       "1                           gender: Male         11.412630\n",
       "2                   international: False         14.292279\n",
       "3                    international: True         15.092291\n",
       "4                        major: Business         14.689880\n",
       "5                      major: Humanities         14.792422\n",
       "6                            major: STEM         14.026667\n",
       "7                            race: Asian         16.564952\n",
       "8                            race: Black          8.733624\n",
       "9                              race: nan               NaN\n",
       "10                        race: Hispanic         10.402685\n",
       "11                           race: White         16.758242\n",
       "12                           race: Other         19.409283\n",
       "13                         work_exp: 3.0         14.905149\n",
       "14                         work_exp: 5.0         15.295577\n",
       "15                         work_exp: 6.0         15.314136\n",
       "16                         work_exp: 2.0          9.375000\n",
       "17                         work_exp: 4.0         12.665275\n",
       "18                         work_exp: 8.0          7.894737\n",
       "19                         work_exp: 7.0         14.168937\n",
       "20                         work_exp: 9.0          0.000000\n",
       "21                         work_exp: 1.0         50.000000\n",
       "22     work_industry: Financial Services         19.068736\n",
       "23  work_industry: Investment Management         21.686747\n",
       "24             work_industry: Technology         15.642458\n",
       "25             work_industry: Consulting         13.835701\n",
       "26          work_industry: Nonprofit/Gov         13.671275\n",
       "27                  work_industry: PE/VC         13.450937\n",
       "28            work_industry: Health Care         11.976048\n",
       "29     work_industry: Investment Banking         14.137931\n",
       "30                  work_industry: Other         13.539192\n",
       "31                 work_industry: Retail         12.121212\n",
       "32                 work_industry: Energy          9.375000\n",
       "33                    work_industry: CPG         17.543860\n",
       "34            work_industry: Real Estate         16.216216\n",
       "35    work_industry: Media/Entertainment         11.864407"
      ]
     },
     "execution_count": 604,
     "metadata": {},
     "output_type": "execute_result"
    }
   ],
   "source": [
    "percent_admitted_df = pd.DataFrame(list(dictionary.items()), columns = ['Variable Category', 'Percent Accepted'])\n",
    "percent_admitted_df"
   ]
  },
  {
   "cell_type": "code",
   "execution_count": 605,
   "id": "239b5ce1-9dad-43bd-bac5-b9b39f338e41",
   "metadata": {},
   "outputs": [
    {
     "data": {
      "text/plain": [
       "15.092290988056462"
      ]
     },
     "execution_count": 605,
     "metadata": {},
     "output_type": "execute_result"
    }
   ],
   "source": [
    "100*(df[df['race'].isna()]['admission'] == 'Admit').mean()"
   ]
  },
  {
   "cell_type": "markdown",
   "id": "5e69b2ee-8c57-4d0b-90a9-40310b5f5ae2",
   "metadata": {},
   "source": [
    "We can see from the output that there must be a technical issue with giving the percentage of applicants accepted when the value for the race variable is not provided. In the cell right above we are explicitly examining this and we are given a concrete percentage that looks very realistic. Let's just replace it manually."
   ]
  },
  {
   "cell_type": "code",
   "execution_count": 607,
   "id": "82105665-648b-455d-beb3-3e5d3623bc76",
   "metadata": {},
   "outputs": [
    {
     "data": {
      "text/html": [
       "<div>\n",
       "<style scoped>\n",
       "    .dataframe tbody tr th:only-of-type {\n",
       "        vertical-align: middle;\n",
       "    }\n",
       "\n",
       "    .dataframe tbody tr th {\n",
       "        vertical-align: top;\n",
       "    }\n",
       "\n",
       "    .dataframe thead th {\n",
       "        text-align: right;\n",
       "    }\n",
       "</style>\n",
       "<table border=\"1\" class=\"dataframe\">\n",
       "  <thead>\n",
       "    <tr style=\"text-align: right;\">\n",
       "      <th></th>\n",
       "      <th>Variable Category</th>\n",
       "      <th>Percent Accepted</th>\n",
       "    </tr>\n",
       "  </thead>\n",
       "  <tbody>\n",
       "    <tr>\n",
       "      <th>0</th>\n",
       "      <td>gender: Female</td>\n",
       "      <td>19.991115</td>\n",
       "    </tr>\n",
       "    <tr>\n",
       "      <th>1</th>\n",
       "      <td>gender: Male</td>\n",
       "      <td>11.412630</td>\n",
       "    </tr>\n",
       "    <tr>\n",
       "      <th>2</th>\n",
       "      <td>international: False</td>\n",
       "      <td>14.292279</td>\n",
       "    </tr>\n",
       "    <tr>\n",
       "      <th>3</th>\n",
       "      <td>international: True</td>\n",
       "      <td>15.092291</td>\n",
       "    </tr>\n",
       "    <tr>\n",
       "      <th>4</th>\n",
       "      <td>major: Business</td>\n",
       "      <td>14.689880</td>\n",
       "    </tr>\n",
       "    <tr>\n",
       "      <th>5</th>\n",
       "      <td>major: Humanities</td>\n",
       "      <td>14.792422</td>\n",
       "    </tr>\n",
       "    <tr>\n",
       "      <th>6</th>\n",
       "      <td>major: STEM</td>\n",
       "      <td>14.026667</td>\n",
       "    </tr>\n",
       "    <tr>\n",
       "      <th>7</th>\n",
       "      <td>race: Asian</td>\n",
       "      <td>16.564952</td>\n",
       "    </tr>\n",
       "    <tr>\n",
       "      <th>8</th>\n",
       "      <td>race: Black</td>\n",
       "      <td>8.733624</td>\n",
       "    </tr>\n",
       "    <tr>\n",
       "      <th>9</th>\n",
       "      <td>race: nan</td>\n",
       "      <td>15.092291</td>\n",
       "    </tr>\n",
       "    <tr>\n",
       "      <th>10</th>\n",
       "      <td>race: Hispanic</td>\n",
       "      <td>10.402685</td>\n",
       "    </tr>\n",
       "    <tr>\n",
       "      <th>11</th>\n",
       "      <td>race: White</td>\n",
       "      <td>16.758242</td>\n",
       "    </tr>\n",
       "    <tr>\n",
       "      <th>12</th>\n",
       "      <td>race: Other</td>\n",
       "      <td>19.409283</td>\n",
       "    </tr>\n",
       "    <tr>\n",
       "      <th>13</th>\n",
       "      <td>work_exp: 3.0</td>\n",
       "      <td>14.905149</td>\n",
       "    </tr>\n",
       "    <tr>\n",
       "      <th>14</th>\n",
       "      <td>work_exp: 5.0</td>\n",
       "      <td>15.295577</td>\n",
       "    </tr>\n",
       "    <tr>\n",
       "      <th>15</th>\n",
       "      <td>work_exp: 6.0</td>\n",
       "      <td>15.314136</td>\n",
       "    </tr>\n",
       "    <tr>\n",
       "      <th>16</th>\n",
       "      <td>work_exp: 2.0</td>\n",
       "      <td>9.375000</td>\n",
       "    </tr>\n",
       "    <tr>\n",
       "      <th>17</th>\n",
       "      <td>work_exp: 4.0</td>\n",
       "      <td>12.665275</td>\n",
       "    </tr>\n",
       "    <tr>\n",
       "      <th>18</th>\n",
       "      <td>work_exp: 8.0</td>\n",
       "      <td>7.894737</td>\n",
       "    </tr>\n",
       "    <tr>\n",
       "      <th>19</th>\n",
       "      <td>work_exp: 7.0</td>\n",
       "      <td>14.168937</td>\n",
       "    </tr>\n",
       "    <tr>\n",
       "      <th>20</th>\n",
       "      <td>work_exp: 9.0</td>\n",
       "      <td>0.000000</td>\n",
       "    </tr>\n",
       "    <tr>\n",
       "      <th>21</th>\n",
       "      <td>work_exp: 1.0</td>\n",
       "      <td>50.000000</td>\n",
       "    </tr>\n",
       "    <tr>\n",
       "      <th>22</th>\n",
       "      <td>work_industry: Financial Services</td>\n",
       "      <td>19.068736</td>\n",
       "    </tr>\n",
       "    <tr>\n",
       "      <th>23</th>\n",
       "      <td>work_industry: Investment Management</td>\n",
       "      <td>21.686747</td>\n",
       "    </tr>\n",
       "    <tr>\n",
       "      <th>24</th>\n",
       "      <td>work_industry: Technology</td>\n",
       "      <td>15.642458</td>\n",
       "    </tr>\n",
       "    <tr>\n",
       "      <th>25</th>\n",
       "      <td>work_industry: Consulting</td>\n",
       "      <td>13.835701</td>\n",
       "    </tr>\n",
       "    <tr>\n",
       "      <th>26</th>\n",
       "      <td>work_industry: Nonprofit/Gov</td>\n",
       "      <td>13.671275</td>\n",
       "    </tr>\n",
       "    <tr>\n",
       "      <th>27</th>\n",
       "      <td>work_industry: PE/VC</td>\n",
       "      <td>13.450937</td>\n",
       "    </tr>\n",
       "    <tr>\n",
       "      <th>28</th>\n",
       "      <td>work_industry: Health Care</td>\n",
       "      <td>11.976048</td>\n",
       "    </tr>\n",
       "    <tr>\n",
       "      <th>29</th>\n",
       "      <td>work_industry: Investment Banking</td>\n",
       "      <td>14.137931</td>\n",
       "    </tr>\n",
       "    <tr>\n",
       "      <th>30</th>\n",
       "      <td>work_industry: Other</td>\n",
       "      <td>13.539192</td>\n",
       "    </tr>\n",
       "    <tr>\n",
       "      <th>31</th>\n",
       "      <td>work_industry: Retail</td>\n",
       "      <td>12.121212</td>\n",
       "    </tr>\n",
       "    <tr>\n",
       "      <th>32</th>\n",
       "      <td>work_industry: Energy</td>\n",
       "      <td>9.375000</td>\n",
       "    </tr>\n",
       "    <tr>\n",
       "      <th>33</th>\n",
       "      <td>work_industry: CPG</td>\n",
       "      <td>17.543860</td>\n",
       "    </tr>\n",
       "    <tr>\n",
       "      <th>34</th>\n",
       "      <td>work_industry: Real Estate</td>\n",
       "      <td>16.216216</td>\n",
       "    </tr>\n",
       "    <tr>\n",
       "      <th>35</th>\n",
       "      <td>work_industry: Media/Entertainment</td>\n",
       "      <td>11.864407</td>\n",
       "    </tr>\n",
       "  </tbody>\n",
       "</table>\n",
       "</div>"
      ],
      "text/plain": [
       "                       Variable Category  Percent Accepted\n",
       "0                         gender: Female         19.991115\n",
       "1                           gender: Male         11.412630\n",
       "2                   international: False         14.292279\n",
       "3                    international: True         15.092291\n",
       "4                        major: Business         14.689880\n",
       "5                      major: Humanities         14.792422\n",
       "6                            major: STEM         14.026667\n",
       "7                            race: Asian         16.564952\n",
       "8                            race: Black          8.733624\n",
       "9                              race: nan         15.092291\n",
       "10                        race: Hispanic         10.402685\n",
       "11                           race: White         16.758242\n",
       "12                           race: Other         19.409283\n",
       "13                         work_exp: 3.0         14.905149\n",
       "14                         work_exp: 5.0         15.295577\n",
       "15                         work_exp: 6.0         15.314136\n",
       "16                         work_exp: 2.0          9.375000\n",
       "17                         work_exp: 4.0         12.665275\n",
       "18                         work_exp: 8.0          7.894737\n",
       "19                         work_exp: 7.0         14.168937\n",
       "20                         work_exp: 9.0          0.000000\n",
       "21                         work_exp: 1.0         50.000000\n",
       "22     work_industry: Financial Services         19.068736\n",
       "23  work_industry: Investment Management         21.686747\n",
       "24             work_industry: Technology         15.642458\n",
       "25             work_industry: Consulting         13.835701\n",
       "26          work_industry: Nonprofit/Gov         13.671275\n",
       "27                  work_industry: PE/VC         13.450937\n",
       "28            work_industry: Health Care         11.976048\n",
       "29     work_industry: Investment Banking         14.137931\n",
       "30                  work_industry: Other         13.539192\n",
       "31                 work_industry: Retail         12.121212\n",
       "32                 work_industry: Energy          9.375000\n",
       "33                    work_industry: CPG         17.543860\n",
       "34            work_industry: Real Estate         16.216216\n",
       "35    work_industry: Media/Entertainment         11.864407"
      ]
     },
     "execution_count": 607,
     "metadata": {},
     "output_type": "execute_result"
    }
   ],
   "source": [
    "percent_admitted_df.loc[percent_admitted_df['Variable Category'] == 'race: nan', 'Percent Accepted'] = 100*(df[df['race'].isna()]['admission'] == 'Admit').mean()\n",
    "percent_admitted_df"
   ]
  }
 ],
 "metadata": {
  "kernelspec": {
   "display_name": "Python 3 (ipykernel)",
   "language": "python",
   "name": "python3"
  },
  "language_info": {
   "codemirror_mode": {
    "name": "ipython",
    "version": 3
   },
   "file_extension": ".py",
   "mimetype": "text/x-python",
   "name": "python",
   "nbconvert_exporter": "python",
   "pygments_lexer": "ipython3",
   "version": "3.11.5"
  }
 },
 "nbformat": 4,
 "nbformat_minor": 5
}
